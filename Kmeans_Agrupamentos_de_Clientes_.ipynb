{
  "nbformat": 4,
  "nbformat_minor": 0,
  "metadata": {
    "colab": {
      "provenance": [],
      "collapsed_sections": [
        "IAcjJSjvw_nO",
        "aLZY1kNAyKdr",
        "BIz-8b_wxFB-",
        "-7hp1ccIxHxW",
        "BPld4YyKez8T",
        "8e4CgAlXd-P_",
        "8ck-sZGidQjQ",
        "8WBOZU-BdZxH"
      ],
      "include_colab_link": true
    },
    "kernelspec": {
      "name": "python3",
      "display_name": "Python 3"
    },
    "accelerator": "GPU"
  },
  "cells": [
    {
      "cell_type": "markdown",
      "metadata": {
        "id": "view-in-github",
        "colab_type": "text"
      },
      "source": [
        "<a href=\"https://colab.research.google.com/github/gustahps-0712/MachineLearningProjects/blob/main/Kmeans_Agrupamentos_de_Clientes_.ipynb\" target=\"_parent\"><img src=\"https://colab.research.google.com/assets/colab-badge.svg\" alt=\"Open In Colab\"/></a>"
      ]
    },
    {
      "cell_type": "markdown",
      "metadata": {
        "id": "XRJb4sERw6-X"
      },
      "source": [
        "#1 Business Problem\n",
        "We need to build a Predictive Machine that, based on customer energy consumption data, groups consumers by similarity in order to understand customer behavior and its relationship with energy consumption..\n",
        "\n"
      ]
    },
    {
      "cell_type": "markdown",
      "metadata": {
        "id": "IAcjJSjvw_nO"
      },
      "source": [
        "# 2° Exploratory Data Analysis"
      ]
    },
    {
      "cell_type": "markdown",
      "metadata": {
        "id": "aLZY1kNAyKdr"
      },
      "source": [
        "### Fonte de Dados\n",
        "https://archive.ics.uci.edu/ml/datasets/Individual+household+electric+power+consumption\n",
        "\n",
        "\n",
        "Measurements of electrical energy consumption in a home with a one-minute sampling rate over a period of almost 4 years. Different electrical quantities and some submeasurement values ​​are available.\n",
        "\n",
        "\n",
        "\n",
        "\n",
        "### AD (Arquitetura de Dados/Dicionário de Dados):\n",
        "\n",
        "1. **data**: Data no formato dd / mm / aaaa\n",
        "2. **hora**: hora no formato hh: mm: ss\n",
        "3. **global_active_power**: potência ativa média global por minuto (em quilowatt)\n",
        "4. **potência reativa global da família**: potência reativa média global por minuto (em quilowatt)\n",
        "5. **voltagem**: tensão média por minuto (em volt)\n",
        "6. **intensidade global**: intensidade de corrente média por minuto global doméstica (em ampere)\n",
        "7. **sub_metering_1**: submedição de energia nº 1 (em watt-hora de energia ativa ) Corresponde à **cozinha**, que contém essencialmente uma máquina de lavar louça, um forno e um micro-ondas (a placa eléctrica não é eléctrica mas sim a gás).\n",
        "8. **sub_metering_2**: sub-medição de energia nº 2 (em watt-hora de energia ativa). Corresponde à **lavanderia**, contendo uma máquina de lavar, uma secadora, uma geladeira e uma luz.\n",
        "9. **sub_metering_3**: submedição de energia nº 3 (em watt-hora de energia ativa). Corresponde a um **aquecedor elétrico de água e um ar condicionado**."
      ]
    },
    {
      "cell_type": "code",
      "metadata": {
        "id": "VBrCFtLtxdoj"
      },
      "source": [
        "# Imports\n",
        "import pandas as pd\n",
        "import numpy as np\n",
        "import matplotlib.pyplot as plt\n",
        "from matplotlib import pylab\n",
        "from sklearn.cluster import KMeans\n",
        "from sklearn.decomposition import PCA\n",
        "from sklearn.model_selection import train_test_split\n",
        "from scipy.spatial.distance import cdist, pdist\n",
        "from sklearn.metrics import silhouette_score\n",
        "import warnings\n",
        "warnings.filterwarnings(\"ignore\")\n",
        "%matplotlib inline"
      ],
      "execution_count": null,
      "outputs": []
    },
    {
      "cell_type": "code",
      "metadata": {
        "id": "7bFqaSsCyHe0"
      },
      "source": [
        "# loading the data\n",
        "dataset = pd.read_csv('household_power_consumption.txt', delimiter = ';', low_memory = False)"
      ],
      "execution_count": null,
      "outputs": []
    },
    {
      "cell_type": "code",
      "metadata": {
        "colab": {
          "base_uri": "https://localhost:8080/",
          "height": 216
        },
        "id": "x9q_A1UgyOHq",
        "outputId": "affb0524-afa8-47cd-c013-42d694d4f495"
      },
      "source": [
        "# view first lines\n",
        "dataset.head()"
      ],
      "execution_count": null,
      "outputs": [
        {
          "output_type": "execute_result",
          "data": {
            "text/html": [
              "<div>\n",
              "<style scoped>\n",
              "    .dataframe tbody tr th:only-of-type {\n",
              "        vertical-align: middle;\n",
              "    }\n",
              "\n",
              "    .dataframe tbody tr th {\n",
              "        vertical-align: top;\n",
              "    }\n",
              "\n",
              "    .dataframe thead th {\n",
              "        text-align: right;\n",
              "    }\n",
              "</style>\n",
              "<table border=\"1\" class=\"dataframe\">\n",
              "  <thead>\n",
              "    <tr style=\"text-align: right;\">\n",
              "      <th></th>\n",
              "      <th>Date</th>\n",
              "      <th>Time</th>\n",
              "      <th>Global_active_power</th>\n",
              "      <th>Global_reactive_power</th>\n",
              "      <th>Voltage</th>\n",
              "      <th>Global_intensity</th>\n",
              "      <th>Sub_metering_1</th>\n",
              "      <th>Sub_metering_2</th>\n",
              "      <th>Sub_metering_3</th>\n",
              "    </tr>\n",
              "  </thead>\n",
              "  <tbody>\n",
              "    <tr>\n",
              "      <th>0</th>\n",
              "      <td>16/12/2006</td>\n",
              "      <td>17:24:00</td>\n",
              "      <td>4.216</td>\n",
              "      <td>0.418</td>\n",
              "      <td>234.840</td>\n",
              "      <td>18.400</td>\n",
              "      <td>0.000</td>\n",
              "      <td>1.000</td>\n",
              "      <td>17.0</td>\n",
              "    </tr>\n",
              "    <tr>\n",
              "      <th>1</th>\n",
              "      <td>16/12/2006</td>\n",
              "      <td>17:25:00</td>\n",
              "      <td>5.360</td>\n",
              "      <td>0.436</td>\n",
              "      <td>233.630</td>\n",
              "      <td>23.000</td>\n",
              "      <td>0.000</td>\n",
              "      <td>1.000</td>\n",
              "      <td>16.0</td>\n",
              "    </tr>\n",
              "    <tr>\n",
              "      <th>2</th>\n",
              "      <td>16/12/2006</td>\n",
              "      <td>17:26:00</td>\n",
              "      <td>5.374</td>\n",
              "      <td>0.498</td>\n",
              "      <td>233.290</td>\n",
              "      <td>23.000</td>\n",
              "      <td>0.000</td>\n",
              "      <td>2.000</td>\n",
              "      <td>17.0</td>\n",
              "    </tr>\n",
              "    <tr>\n",
              "      <th>3</th>\n",
              "      <td>16/12/2006</td>\n",
              "      <td>17:27:00</td>\n",
              "      <td>5.388</td>\n",
              "      <td>0.502</td>\n",
              "      <td>233.740</td>\n",
              "      <td>23.000</td>\n",
              "      <td>0.000</td>\n",
              "      <td>1.000</td>\n",
              "      <td>17.0</td>\n",
              "    </tr>\n",
              "    <tr>\n",
              "      <th>4</th>\n",
              "      <td>16/12/2006</td>\n",
              "      <td>17:28:00</td>\n",
              "      <td>3.666</td>\n",
              "      <td>0.528</td>\n",
              "      <td>235.680</td>\n",
              "      <td>15.800</td>\n",
              "      <td>0.000</td>\n",
              "      <td>1.000</td>\n",
              "      <td>17.0</td>\n",
              "    </tr>\n",
              "  </tbody>\n",
              "</table>\n",
              "</div>"
            ],
            "text/plain": [
              "         Date      Time  ... Sub_metering_2 Sub_metering_3\n",
              "0  16/12/2006  17:24:00  ...          1.000           17.0\n",
              "1  16/12/2006  17:25:00  ...          1.000           16.0\n",
              "2  16/12/2006  17:26:00  ...          2.000           17.0\n",
              "3  16/12/2006  17:27:00  ...          1.000           17.0\n",
              "4  16/12/2006  17:28:00  ...          1.000           17.0\n",
              "\n",
              "[5 rows x 9 columns]"
            ]
          },
          "metadata": {
            "tags": []
          },
          "execution_count": 3
        }
      ]
    },
    {
      "cell_type": "code",
      "metadata": {
        "colab": {
          "base_uri": "https://localhost:8080/"
        },
        "id": "w2EAdC51yRn3",
        "outputId": "806ae538-e005-4065-d1af-1d0d316ff5f2"
      },
      "source": [
        "# Dataset dimensions in rows and columns respectively\n",
        "dataset.shape"
      ],
      "execution_count": null,
      "outputs": [
        {
          "output_type": "execute_result",
          "data": {
            "text/plain": [
              "(2075259, 9)"
            ]
          },
          "metadata": {
            "tags": []
          },
          "execution_count": 4
        }
      ]
    },
    {
      "cell_type": "code",
      "metadata": {
        "colab": {
          "base_uri": "https://localhost:8080/"
        },
        "id": "8XNdQi_TyTNw",
        "outputId": "d5fde065-324b-4015-ea15-8293ded4478b"
      },
      "source": [
        "# Check the type of fields\n",
        "\n",
        "dataset.dtypes"
      ],
      "execution_count": null,
      "outputs": [
        {
          "output_type": "execute_result",
          "data": {
            "text/plain": [
              "Date                      object\n",
              "Time                      object\n",
              "Global_active_power       object\n",
              "Global_reactive_power     object\n",
              "Voltage                   object\n",
              "Global_intensity          object\n",
              "Sub_metering_1            object\n",
              "Sub_metering_2            object\n",
              "Sub_metering_3           float64\n",
              "dtype: object"
            ]
          },
          "metadata": {
            "tags": []
          },
          "execution_count": 5
        }
      ]
    },
    {
      "cell_type": "code",
      "metadata": {
        "id": "EhFcrRW77-E3",
        "colab": {
          "base_uri": "https://localhost:8080/"
        },
        "outputId": "4f79ed96-e86f-480a-9ef7-6a101cd4d279"
      },
      "source": [
        "# General Dataset Information\n",
        "dataset.info()"
      ],
      "execution_count": null,
      "outputs": [
        {
          "output_type": "stream",
          "text": [
            "<class 'pandas.core.frame.DataFrame'>\n",
            "RangeIndex: 2075259 entries, 0 to 2075258\n",
            "Data columns (total 9 columns):\n",
            " #   Column                 Dtype  \n",
            "---  ------                 -----  \n",
            " 0   Date                   object \n",
            " 1   Time                   object \n",
            " 2   Global_active_power    object \n",
            " 3   Global_reactive_power  object \n",
            " 4   Voltage                object \n",
            " 5   Global_intensity       object \n",
            " 6   Sub_metering_1         object \n",
            " 7   Sub_metering_2         object \n",
            " 8   Sub_metering_3         float64\n",
            "dtypes: float64(1), object(8)\n",
            "memory usage: 142.5+ MB\n"
          ],
          "name": "stdout"
        }
      ]
    },
    {
      "cell_type": "code",
      "metadata": {
        "colab": {
          "base_uri": "https://localhost:8080/"
        },
        "id": "J1KfeZJ8yW8V",
        "outputId": "2765217f-83d1-4583-c409-b831dbb109e7"
      },
      "source": [
        "# Checking for missing values\n",
        "dataset.isnull().values.any()"
      ],
      "execution_count": null,
      "outputs": [
        {
          "output_type": "execute_result",
          "data": {
            "text/plain": [
              "True"
            ]
          },
          "metadata": {
            "tags": []
          },
          "execution_count": 7
        }
      ]
    },
    {
      "cell_type": "code",
      "metadata": {
        "colab": {
          "base_uri": "https://localhost:8080/"
        },
        "id": "utb0OBk94-FL",
        "outputId": "7f31a181-9969-4a9b-8325-073bf7e9571b"
      },
      "source": [
        "# Checking where are the missing values\n",
        "\n",
        "dataset.isnull().sum()"
      ],
      "execution_count": null,
      "outputs": [
        {
          "output_type": "execute_result",
          "data": {
            "text/plain": [
              "Date                         0\n",
              "Time                         0\n",
              "Global_active_power          0\n",
              "Global_reactive_power        0\n",
              "Voltage                      0\n",
              "Global_intensity             0\n",
              "Sub_metering_1               0\n",
              "Sub_metering_2               0\n",
              "Sub_metering_3           25979\n",
              "dtype: int64"
            ]
          },
          "metadata": {
            "tags": []
          },
          "execution_count": 8
        }
      ]
    },
    {
      "cell_type": "code",
      "metadata": {
        "id": "v12MznjeaL49"
      },
      "source": [],
      "execution_count": null,
      "outputs": []
    },
    {
      "cell_type": "markdown",
      "metadata": {
        "id": "BIz-8b_wxFB-"
      },
      "source": [
        "#3° Data Pre-processing"
      ]
    },
    {
      "cell_type": "code",
      "metadata": {
        "id": "WoW69nGtVpKU"
      },
      "source": [
        "# Removes records with NA values ​​and removes the first two columns (not needed)\n",
        "\n",
        "dataset = dataset.iloc[0:, 2:9].dropna()"
      ],
      "execution_count": null,
      "outputs": []
    },
    {
      "cell_type": "code",
      "metadata": {
        "id": "88kcVIoyVpKU",
        "colab": {
          "base_uri": "https://localhost:8080/",
          "height": 196
        },
        "outputId": "cc264c63-5524-48fb-d498-48d79f267e0a"
      },
      "source": [
        "#  Check first lines\n",
        "\n",
        "dataset.head()"
      ],
      "execution_count": null,
      "outputs": [
        {
          "output_type": "execute_result",
          "data": {
            "text/html": [
              "<div>\n",
              "<style scoped>\n",
              "    .dataframe tbody tr th:only-of-type {\n",
              "        vertical-align: middle;\n",
              "    }\n",
              "\n",
              "    .dataframe tbody tr th {\n",
              "        vertical-align: top;\n",
              "    }\n",
              "\n",
              "    .dataframe thead th {\n",
              "        text-align: right;\n",
              "    }\n",
              "</style>\n",
              "<table border=\"1\" class=\"dataframe\">\n",
              "  <thead>\n",
              "    <tr style=\"text-align: right;\">\n",
              "      <th></th>\n",
              "      <th>Global_active_power</th>\n",
              "      <th>Global_reactive_power</th>\n",
              "      <th>Voltage</th>\n",
              "      <th>Global_intensity</th>\n",
              "      <th>Sub_metering_1</th>\n",
              "      <th>Sub_metering_2</th>\n",
              "      <th>Sub_metering_3</th>\n",
              "    </tr>\n",
              "  </thead>\n",
              "  <tbody>\n",
              "    <tr>\n",
              "      <th>0</th>\n",
              "      <td>4.216</td>\n",
              "      <td>0.418</td>\n",
              "      <td>234.840</td>\n",
              "      <td>18.400</td>\n",
              "      <td>0.000</td>\n",
              "      <td>1.000</td>\n",
              "      <td>17.0</td>\n",
              "    </tr>\n",
              "    <tr>\n",
              "      <th>1</th>\n",
              "      <td>5.360</td>\n",
              "      <td>0.436</td>\n",
              "      <td>233.630</td>\n",
              "      <td>23.000</td>\n",
              "      <td>0.000</td>\n",
              "      <td>1.000</td>\n",
              "      <td>16.0</td>\n",
              "    </tr>\n",
              "    <tr>\n",
              "      <th>2</th>\n",
              "      <td>5.374</td>\n",
              "      <td>0.498</td>\n",
              "      <td>233.290</td>\n",
              "      <td>23.000</td>\n",
              "      <td>0.000</td>\n",
              "      <td>2.000</td>\n",
              "      <td>17.0</td>\n",
              "    </tr>\n",
              "    <tr>\n",
              "      <th>3</th>\n",
              "      <td>5.388</td>\n",
              "      <td>0.502</td>\n",
              "      <td>233.740</td>\n",
              "      <td>23.000</td>\n",
              "      <td>0.000</td>\n",
              "      <td>1.000</td>\n",
              "      <td>17.0</td>\n",
              "    </tr>\n",
              "    <tr>\n",
              "      <th>4</th>\n",
              "      <td>3.666</td>\n",
              "      <td>0.528</td>\n",
              "      <td>235.680</td>\n",
              "      <td>15.800</td>\n",
              "      <td>0.000</td>\n",
              "      <td>1.000</td>\n",
              "      <td>17.0</td>\n",
              "    </tr>\n",
              "  </tbody>\n",
              "</table>\n",
              "</div>"
            ],
            "text/plain": [
              "  Global_active_power Global_reactive_power  ... Sub_metering_2 Sub_metering_3\n",
              "0               4.216                 0.418  ...          1.000           17.0\n",
              "1               5.360                 0.436  ...          1.000           16.0\n",
              "2               5.374                 0.498  ...          2.000           17.0\n",
              "3               5.388                 0.502  ...          1.000           17.0\n",
              "4               3.666                 0.528  ...          1.000           17.0\n",
              "\n",
              "[5 rows x 7 columns]"
            ]
          },
          "metadata": {
            "tags": []
          },
          "execution_count": 12
        }
      ]
    },
    {
      "cell_type": "code",
      "metadata": {
        "id": "86eah21pVpKU",
        "colab": {
          "base_uri": "https://localhost:8080/"
        },
        "outputId": "d6d70dcd-c9a1-4ce4-97d8-ec389389e314"
      },
      "source": [
        "# Checking if there are still missing values\n",
        "\n",
        "dataset.isnull().values.any()"
      ],
      "execution_count": null,
      "outputs": [
        {
          "output_type": "execute_result",
          "data": {
            "text/plain": [
              "False"
            ]
          },
          "metadata": {
            "tags": []
          },
          "execution_count": 13
        }
      ]
    },
    {
      "cell_type": "code",
      "metadata": {
        "colab": {
          "base_uri": "https://localhost:8080/"
        },
        "id": "BQvX2AMOVSz7",
        "outputId": "9877994b-d6c3-4474-9731-49626faa321f"
      },
      "source": [
        "dataset.isnull().sum()"
      ],
      "execution_count": null,
      "outputs": [
        {
          "output_type": "execute_result",
          "data": {
            "text/plain": [
              "Global_active_power      0\n",
              "Global_reactive_power    0\n",
              "Voltage                  0\n",
              "Global_intensity         0\n",
              "Sub_metering_1           0\n",
              "Sub_metering_2           0\n",
              "Sub_metering_3           0\n",
              "dtype: int64"
            ]
          },
          "metadata": {
            "tags": []
          },
          "execution_count": 14
        }
      ]
    },
    {
      "cell_type": "code",
      "metadata": {
        "id": "HKLwGvmdVpKV"
      },
      "source": [
        "# Gets the attribute values. Gets the values ​​of each variable in an array format\n",
        "\n",
        "dataset_atrib = dataset.values"
      ],
      "execution_count": null,
      "outputs": []
    },
    {
      "cell_type": "code",
      "metadata": {
        "id": "R2iMjBXpVpKV",
        "colab": {
          "base_uri": "https://localhost:8080/"
        },
        "outputId": "3a5d67ad-80ac-4fb2-e7b4-f324366fc5dc"
      },
      "source": [
        "# prints the array\n",
        "\n",
        "\n",
        "dataset_atrib  # input variables"
      ],
      "execution_count": null,
      "outputs": [
        {
          "output_type": "execute_result",
          "data": {
            "text/plain": [
              "array([['4.216', '0.418', '234.840', ..., '0.000', '1.000', 17.0],\n",
              "       ['5.360', '0.436', '233.630', ..., '0.000', '1.000', 16.0],\n",
              "       ['5.374', '0.498', '233.290', ..., '0.000', '2.000', 17.0],\n",
              "       ...,\n",
              "       ['0.938', '0.000', '239.820', ..., '0.000', '0.000', 0.0],\n",
              "       ['0.934', '0.000', '239.700', ..., '0.000', '0.000', 0.0],\n",
              "       ['0.932', '0.000', '239.550', ..., '0.000', '0.000', 0.0]],\n",
              "      dtype=object)"
            ]
          },
          "metadata": {
            "tags": []
          },
          "execution_count": 16
        }
      ]
    },
    {
      "cell_type": "code",
      "metadata": {
        "id": "Ya_eg-aQaB2M"
      },
      "source": [
        "# Coleta uma amostra de 1% dos dados para não comprometer a memória do computador\n",
        "\n",
        "dataset, amostra2 = train_test_split(dataset_atrib, train_size = .01)"
      ],
      "execution_count": null,
      "outputs": []
    },
    {
      "cell_type": "code",
      "metadata": {
        "id": "495H0OhPaB2M",
        "colab": {
          "base_uri": "https://localhost:8080/"
        },
        "outputId": "1b5439d0-feb9-409f-9549-fb80df40a888"
      },
      "source": [
        "dataset.shape"
      ],
      "execution_count": null,
      "outputs": [
        {
          "output_type": "execute_result",
          "data": {
            "text/plain": [
              "(20492, 7)"
            ]
          },
          "metadata": {
            "tags": []
          },
          "execution_count": 18
        }
      ]
    },
    {
      "cell_type": "markdown",
      "metadata": {
        "id": "-7hp1ccIxHxW"
      },
      "source": [
        "#4 Predictive Customer Segmentation Machine"
      ]
    },
    {
      "cell_type": "code",
      "metadata": {
        "id": "MiDWJNtXVpKV",
        "colab": {
          "base_uri": "https://localhost:8080/",
          "height": 183
        },
        "outputId": "a3effe45-40c0-4567-847e-e060bfaef36d"
      },
      "source": [
        "# Applies dimensionality reduction to the array of variables\n",
        "pca = PCA(n_components = 2).fit_transform(dataset)"
      ],
      "execution_count": null,
      "outputs": [
        {
          "output_type": "error",
          "ename": "NameError",
          "evalue": "ignored",
          "traceback": [
            "\u001b[0;31m---------------------------------------------------------------------------\u001b[0m",
            "\u001b[0;31mNameError\u001b[0m                                 Traceback (most recent call last)",
            "\u001b[0;32m<ipython-input-1-d8612fbc41d8>\u001b[0m in \u001b[0;36m<cell line: 2>\u001b[0;34m()\u001b[0m\n\u001b[1;32m      1\u001b[0m \u001b[0;31m# Aplica redução de dimensionalidade no array das variáveis\u001b[0m\u001b[0;34m\u001b[0m\u001b[0;34m\u001b[0m\u001b[0m\n\u001b[0;32m----> 2\u001b[0;31m \u001b[0mpca\u001b[0m \u001b[0;34m=\u001b[0m \u001b[0mPCA\u001b[0m\u001b[0;34m(\u001b[0m\u001b[0mn_components\u001b[0m \u001b[0;34m=\u001b[0m \u001b[0;36m2\u001b[0m\u001b[0;34m)\u001b[0m\u001b[0;34m.\u001b[0m\u001b[0mfit_transform\u001b[0m\u001b[0;34m(\u001b[0m\u001b[0mdataset\u001b[0m\u001b[0;34m)\u001b[0m\u001b[0;34m\u001b[0m\u001b[0;34m\u001b[0m\u001b[0m\n\u001b[0m",
            "\u001b[0;31mNameError\u001b[0m: name 'PCA' is not defined"
          ]
        }
      ]
    },
    {
      "cell_type": "code",
      "metadata": {
        "id": "_eFQ1Ru1VpKV"
      },
      "source": [
        "# Determining a Kmeans Hyperparameter \"K\" range\n",
        "k_range = range(1,12)\n",
        "k_range"
      ],
      "execution_count": null,
      "outputs": []
    },
    {
      "cell_type": "code",
      "metadata": {
        "id": "nmd_9uWsVpKV"
      },
      "source": [
        "# Applying the K-Means model to each value of K (this cell can take a long time to run)\n",
        "k_means_var = [KMeans(n_clusters = k).fit(pca) for k in k_range]"
      ],
      "execution_count": null,
      "outputs": []
    },
    {
      "cell_type": "markdown",
      "metadata": {
        "id": "Qz6o1ppabq1P"
      },
      "source": [
        "### Curva de Elbow"
      ]
    },
    {
      "cell_type": "code",
      "metadata": {
        "id": "gH_-nEPsVpKV",
        "colab": {
          "base_uri": "https://localhost:8080/",
          "height": 235
        },
        "outputId": "2524a4f3-6c5d-44d1-aba5-50dc4e4210fa"
      },
      "source": [
        "#  Adjusting the cluster centroid for each model\n",
        "centroids = [X.cluster_centers_ for X in k_means_var]\n",
        "\n",
        "# Calculando a distância euclidiana de cada ponto de dado para o centróide\n",
        "k_euclid = [cdist(pca, cent, 'euclidean') for cent in centroids]\n",
        "dist = [np.min(ke, axis = 1) for ke in k_euclid]\n",
        "\n",
        "# Calculating the Euclidean distance of each data point to the centroid\n",
        "sum_squares_intra_cluster = [sum(d**2) for d in dist]\n",
        "\n",
        "# Total sum of squares\n",
        "sum_total = sum(pdist(pca)**2)/pca.shape[0]\n",
        "\n",
        "# Sum of squares between clusters\n",
        "sum_squares_inter_cluster = sum_total - sum_squares_intra_cluster\n",
        "\n",
        "# Elbow Curve\n",
        "fig = plt.figure()\n",
        "ax = fig.add_subplot(111)\n",
        "ax.plot(k_range, sum_squares_inter_cluster/sum_total * 100, 'b*-')\n",
        "ax.set_ylim((0,100))\n",
        "plt.grid(True)\n",
        "plt.xlabel('N° of Clusters')\n",
        "plt.ylabel('% of Explained Variance')\n",
        "plt.title('Variance Explained for each K-Value')"
      ],
      "execution_count": null,
      "outputs": [
        {
          "output_type": "error",
          "ename": "NameError",
          "evalue": "ignored",
          "traceback": [
            "\u001b[0;31m---------------------------------------------------------------------------\u001b[0m",
            "\u001b[0;31mNameError\u001b[0m                                 Traceback (most recent call last)",
            "\u001b[0;32m<ipython-input-2-39fd6c3de95c>\u001b[0m in \u001b[0;36m<cell line: 2>\u001b[0;34m()\u001b[0m\n\u001b[1;32m      1\u001b[0m \u001b[0;31m# Ajustando o centróide do cluster para cada modelo\u001b[0m\u001b[0;34m\u001b[0m\u001b[0;34m\u001b[0m\u001b[0m\n\u001b[0;32m----> 2\u001b[0;31m \u001b[0mcentroids\u001b[0m \u001b[0;34m=\u001b[0m \u001b[0;34m[\u001b[0m\u001b[0mX\u001b[0m\u001b[0;34m.\u001b[0m\u001b[0mcluster_centers_\u001b[0m \u001b[0;32mfor\u001b[0m \u001b[0mX\u001b[0m \u001b[0;32min\u001b[0m \u001b[0mk_means_var\u001b[0m\u001b[0;34m]\u001b[0m\u001b[0;34m\u001b[0m\u001b[0;34m\u001b[0m\u001b[0m\n\u001b[0m\u001b[1;32m      3\u001b[0m \u001b[0;34m\u001b[0m\u001b[0m\n\u001b[1;32m      4\u001b[0m \u001b[0;31m# Calculando a distância euclidiana de cada ponto de dado para o centróide\u001b[0m\u001b[0;34m\u001b[0m\u001b[0;34m\u001b[0m\u001b[0m\n\u001b[1;32m      5\u001b[0m \u001b[0mk_euclid\u001b[0m \u001b[0;34m=\u001b[0m \u001b[0;34m[\u001b[0m\u001b[0mcdist\u001b[0m\u001b[0;34m(\u001b[0m\u001b[0mpca\u001b[0m\u001b[0;34m,\u001b[0m \u001b[0mcent\u001b[0m\u001b[0;34m,\u001b[0m \u001b[0;34m'euclidean'\u001b[0m\u001b[0;34m)\u001b[0m \u001b[0;32mfor\u001b[0m \u001b[0mcent\u001b[0m \u001b[0;32min\u001b[0m \u001b[0mcentroids\u001b[0m\u001b[0;34m]\u001b[0m\u001b[0;34m\u001b[0m\u001b[0;34m\u001b[0m\u001b[0m\n",
            "\u001b[0;31mNameError\u001b[0m: name 'k_means_var' is not defined"
          ]
        }
      ]
    },
    {
      "cell_type": "code",
      "metadata": {
        "id": "JeEEtVGLVpKV"
      },
      "source": [
        "# Creating a model with K = 8\n",
        "model_v1 = KMeans(n_clusters = 8)\n",
        "model_v1.fit(pca)"
      ],
      "execution_count": null,
      "outputs": []
    },
    {
      "cell_type": "markdown",
      "metadata": {
        "id": "l_NQMaLKxKSS"
      },
      "source": [
        "#5° Predictive Machine Evaluation\n"
      ]
    },
    {
      "cell_type": "code",
      "metadata": {
        "id": "rUs3e0OIVpKV"
      },
      "source": [
        "# Machine V1\n",
        "# Get the minimum and maximum values ​​and organize the shape\n",
        "\n",
        "x_min, x_max = pca[:, 0].min() - 5, pca[:, 0].max() - 1\n",
        "y_min, y_max = pca[:, 1].min() + 1, pca[:, 1].max() + 5\n",
        "xx, yy = np.meshgrid(np.arange(x_min, x_max, .02), np.arange(y_min, y_max, .02))\n",
        "Z = model_v1.predict(np.c_[xx.ravel(), yy.ravel()])\n",
        "Z = Z.reshape(xx.shape)"
      ],
      "execution_count": null,
      "outputs": []
    },
    {
      "cell_type": "code",
      "metadata": {
        "id": "Bsbxb1cPVpKV"
      },
      "source": [
        "# Plot of cluster areas\n",
        "\n",
        "plt.figure(1)\n",
        "plt.clf()\n",
        "plt.imshow(Z, \n",
        "           interpolation = 'nearest',\n",
        "           extent = (xx.min(), xx.max(), yy.min(), yy.max()),\n",
        "           cmap = plt.cm.Paired,\n",
        "           aspect = 'auto', \n",
        "           origin = 'lower')"
      ],
      "execution_count": null,
      "outputs": []
    },
    {
      "cell_type": "code",
      "metadata": {
        "id": "2eTZviBcVpKV"
      },
      "source": [
        "# Evaluation metrics for Clustering\n",
        "# The best value is 1 and the worst value is -1\n",
        "?silhouette_score"
      ],
      "execution_count": null,
      "outputs": []
    },
    {
      "cell_type": "code",
      "metadata": {
        "id": "kb_WNfIUVpKV",
        "colab": {
          "base_uri": "https://localhost:8080/"
        },
        "outputId": "0eb0dc8c-7eab-413c-d589-ee07bf11568d"
      },
      "source": [
        "# Silhouette Score\n",
        "labels = model_v1.labels_\n",
        "silhouette_score(pca, labels, metric = 'euclidean')"
      ],
      "execution_count": null,
      "outputs": [
        {
          "output_type": "execute_result",
          "data": {
            "text/plain": [
              "0.605442170975759"
            ]
          },
          "metadata": {
            "tags": []
          },
          "execution_count": 32
        }
      ]
    },
    {
      "cell_type": "markdown",
      "metadata": {
        "id": "8e4CgAlXd-P_"
      },
      "source": [
        "#### Avaliando a Máquina Preditiva V2 com K=9"
      ]
    },
    {
      "cell_type": "code",
      "metadata": {
        "colab": {
          "base_uri": "https://localhost:8080/"
        },
        "id": "uxoqyqopd7Ad",
        "outputId": "827dea71-7290-4bf5-a6de-1fbe38223979"
      },
      "source": [
        "# Criando um modelo com K = 9\n",
        "model_v2 = KMeans(n_clusters = 9)\n",
        "model_v2.fit(pca)"
      ],
      "execution_count": null,
      "outputs": [
        {
          "output_type": "execute_result",
          "data": {
            "text/plain": [
              "KMeans(algorithm='auto', copy_x=True, init='k-means++', max_iter=300,\n",
              "       n_clusters=9, n_init=10, n_jobs=None, precompute_distances='auto',\n",
              "       random_state=None, tol=0.0001, verbose=0)"
            ]
          },
          "metadata": {
            "tags": []
          },
          "execution_count": 43
        }
      ]
    },
    {
      "cell_type": "code",
      "metadata": {
        "colab": {
          "base_uri": "https://localhost:8080/"
        },
        "id": "a6h0CmEEd_Yj",
        "outputId": "696cd983-addc-410c-f9ec-cabb538b473b"
      },
      "source": [
        "# Silhouette Score\n",
        "labels = model_v2.labels_\n",
        "silhouette_score(pca, labels, metric = 'euclidean')"
      ],
      "execution_count": null,
      "outputs": [
        {
          "output_type": "execute_result",
          "data": {
            "text/plain": [
              "0.6824612530173378"
            ]
          },
          "metadata": {
            "tags": []
          },
          "execution_count": 44
        }
      ]
    },
    {
      "cell_type": "markdown",
      "metadata": {
        "id": "8ck-sZGidQjQ"
      },
      "source": [
        "#### Avaliando a Máquina Preditiva V3 com K=10"
      ]
    },
    {
      "cell_type": "code",
      "metadata": {
        "id": "LoY6_BGUVpKV"
      },
      "source": [
        "# Criando um modelo com K = 10\n",
        "modelo_v2 = KMeans(n_clusters = 10)\n",
        "modelo_v2.fit(pca)"
      ],
      "execution_count": null,
      "outputs": []
    },
    {
      "cell_type": "code",
      "metadata": {
        "id": "bmFYvQLwVpKV",
        "colab": {
          "base_uri": "https://localhost:8080/"
        },
        "outputId": "9974cc1c-13ba-42e5-ef3a-0e3f9b66518b"
      },
      "source": [
        "# Silhouette Score\n",
        "labels = modelo_v2.labels_\n",
        "silhouette_score(pca, labels, metric = 'euclidean')"
      ],
      "execution_count": null,
      "outputs": [
        {
          "output_type": "execute_result",
          "data": {
            "text/plain": [
              "0.6364236122740907"
            ]
          },
          "metadata": {
            "tags": []
          },
          "execution_count": 34
        }
      ]
    },
    {
      "cell_type": "markdown",
      "metadata": {
        "id": "8WBOZU-BdZxH"
      },
      "source": [
        "#### Avaliando a Máquina Preditiva V4 com K=11"
      ]
    },
    {
      "cell_type": "code",
      "metadata": {
        "colab": {
          "base_uri": "https://localhost:8080/"
        },
        "id": "lUP-V3Q0372R",
        "outputId": "cb6a02b2-b466-4a5a-ee03-debae32aa171"
      },
      "source": [
        "# Criando um modelo com K = 11\n",
        "model_v3 = KMeans(n_clusters = 11)\n",
        "model_v3.fit(pca)"
      ],
      "execution_count": null,
      "outputs": [
        {
          "output_type": "execute_result",
          "data": {
            "text/plain": [
              "KMeans(algorithm='auto', copy_x=True, init='k-means++', max_iter=300,\n",
              "       n_clusters=11, n_init=10, n_jobs=None, precompute_distances='auto',\n",
              "       random_state=None, tol=0.0001, verbose=0)"
            ]
          },
          "metadata": {
            "tags": []
          },
          "execution_count": 35
        }
      ]
    },
    {
      "cell_type": "code",
      "metadata": {
        "colab": {
          "base_uri": "https://localhost:8080/"
        },
        "id": "OH3iCrNa372U",
        "outputId": "f228b712-d78b-44ab-8e7c-3697a43702ef"
      },
      "source": [
        "# Silhouette Score\n",
        "labels = model_v3.labels_\n",
        "silhouette_score(pca, labels, metric = 'euclidean')"
      ],
      "execution_count": null,
      "outputs": [
        {
          "output_type": "execute_result",
          "data": {
            "text/plain": [
              "0.6359833488484669"
            ]
          },
          "metadata": {
            "tags": []
          },
          "execution_count": 38
        }
      ]
    },
    {
      "cell_type": "code",
      "metadata": {
        "id": "0xTPL5HkVpKW"
      },
      "source": [
        "# List with column names\n",
        "names = ['Global_active_power', 'Global_reactive_power', 'Voltage', 'Global_intensity', 'Sub_metering_1', 'Sub_metering_2', 'Sub_metering_3']"
      ],
      "execution_count": null,
      "outputs": []
    },
    {
      "cell_type": "code",
      "metadata": {
        "id": "eEO82xMZVpKW"
      },
      "source": [
        "# Including the cluster number in the customer base\n",
        "cluster_map = pd.DataFrame(dataset, columns = names)\n",
        "cluster_map['Global_active_power'] = pd.to_numeric(cluster_map['Global_active_power'])\n",
        "cluster_map['cluster'] = modelo_v2.labels_"
      ],
      "execution_count": null,
      "outputs": []
    },
    {
      "cell_type": "code",
      "metadata": {
        "id": "UllmsyGUVpKW"
      },
      "source": [
        "cluster_map"
      ],
      "execution_count": null,
      "outputs": []
    },
    {
      "cell_type": "code",
      "metadata": {
        "id": "EAVaO81cVpKW",
        "colab": {
          "base_uri": "https://localhost:8080/"
        },
        "outputId": "94b8251f-f684-49be-8f0f-047a20d0b5cd"
      },
      "source": [
        "# Calculates average power consumption per cluster\n",
        "cluster_map.groupby('cluster')['Global_active_power'].mean()"
      ],
      "execution_count": null,
      "outputs": [
        {
          "output_type": "execute_result",
          "data": {
            "text/plain": [
              "cluster\n",
              "0    1.809054\n",
              "1    1.548473\n",
              "2    4.570247\n",
              "3    2.663121\n",
              "4    2.358853\n",
              "5    3.317606\n",
              "6    3.801114\n",
              "7    0.363262\n",
              "8    1.100518\n",
              "Name: Global_active_power, dtype: float64"
            ]
          },
          "metadata": {
            "tags": []
          },
          "execution_count": 49
        }
      ]
    }
  ]
}